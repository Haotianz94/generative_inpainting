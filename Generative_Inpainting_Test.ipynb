{
 "cells": [
  {
   "cell_type": "code",
   "execution_count": null,
   "metadata": {},
   "outputs": [],
   "source": [
    "import torch\n",
    "import matplotlib.pyplot as plt\n",
    "import numpy as np\n",
    "import os\n",
    "import cv2\n",
    "import pickle\n",
    "import copy\n",
    "\n",
    "get_ipython().magic('matplotlib inline')\n",
    "get_ipython().magic('reload_ext autoreload')\n",
    "get_ipython().magic('autoreload 2')"
   ]
  },
  {
   "cell_type": "code",
   "execution_count": null,
   "metadata": {},
   "outputs": [],
   "source": [
    "# Set GPU\n",
    "import os\n",
    "os.environ[\"CUDA_DEVICE_ORDER\"]=\"PCI_BUS_ID\"   \n",
    "os.environ[\"CUDA_VISIBLE_DEVICES\"]=\"1\""
   ]
  },
  {
   "cell_type": "code",
   "execution_count": null,
   "metadata": {},
   "outputs": [],
   "source": [
    "cfg = {}\n",
    "# data_loader\n",
    "cfg['data_dir'] = '../dip_video_inpainting/data/SYN_new/'\n",
    "cfg['data_type'] = 'video'\n",
    "cfg['data_resolution'] = '192x384'\n",
    "cfg['video_name'] = 'bar'\n",
    "cfg['mask_name'] = 'parkour'\n",
    "cfg['video_list'] = [\n",
    "### DAVIS (use video)\n",
    "# 'car-shadow', 'breakdance', 'breakdance-flare', 'hike',   \n",
    "# 'bmx-bumps', 'motorbike', 'flamingo', 'swing', \n",
    "# 'stroller', 'parkour', 'horsejump-high', 'camel', \n",
    "# 'bmx-trees', 'horsejump-low', 'dance-jump', 'boat', \n",
    "# 'paragliding-launch', 'elephant', 'tennis', 'surf', \n",
    "# 'paragliding', 'kite-surf', 'dance-twirl', 'rollerblade', \n",
    "# 'goat', 'rhino', 'train',\n",
    "\n",
    "### SYN (use video)\n",
    "# 'beach', 'castle1', 'drone1', 'forest1', 'hall1', \n",
    "# 'castle2', 'forest2', 'forest3', 'house', 'yard',\n",
    "# 'house2', 'lake', 'room', 'stair', 'train1', \n",
    "# 'train2', 'train3', 'train4', 'train5', 'wood',\n",
    "    \n",
    "### SYN new (use video)\n",
    "'boat-1', 'boat-2', 'boat-3', 'boat-4','square-1',\n",
    "'square-2', 'castle-3', 'elevator-1', 'elevator-2', 'mountain-1',\n",
    "'mountain-2', 'highline', 'tower-1', 'tower-2', 'tower-3',\n",
    "'glacier', 'bridge', 'tree', 'street-2','doom',\n",
    "    \n",
    "'bar', 'park-1', 'park-2', 'porch', 'building-1',\n",
    "'building-2', 'building-3', 'church', 'shore', 'cave-1',\n",
    "'cave-2', 'road', 'building-4', 'building-5', 'paris-1',\n",
    "'paris-2', 'building-6', 'monument', 'fountain', 'temple',\n",
    "    \n",
    "### Classic (use sequence)    \n",
    "# 'les_loulous', \n",
    "# 'fountain_chatelet',\n",
    "# 'museum', 'duo', 'park-simple', 'park-complex'\n",
    "# 'granados01', 'granados02' \n",
    "# 'granados03', 'granados04', \n",
    "# 'granados05', 'granados06', 'granados07',\n",
    "]\n",
    "cfg['mask_list'] = ['parkour', 'bmx-bumps', 'swing', 'rollerblade', 'breakdance-flare']\n",
    "cfg['mask_repeat'] = True\n",
    "\n",
    "cfg['interpolation'] = cv2.INTER_AREA\n",
    "cfg['batch_size'] = 1\n",
    "cfg['batch_stride'] = 1\n",
    "cfg['traverse_step'] = 1\n",
    "cfg['frame_sum_max'] = 300\n",
    "cfg['resize'] = None\n",
    "\n",
    "# model\n",
    "cfg['checkpoint_dir'] = 'model_logs/release_places2_256/'\n",
    "\n",
    "# result\n",
    "cfg['res_dir'] = None\n",
    "cfg['res_dir'] = \"../dip_video_inpainting/result/other/generative_inpainting/\""
   ]
  },
  {
   "cell_type": "code",
   "execution_count": null,
   "metadata": {},
   "outputs": [],
   "source": [
    "cfg_path = 'cfg/generative_SYN_new.pkl'\n",
    "pickle.dump(cfg, open(cfg_path, 'wb'))"
   ]
  },
  {
   "cell_type": "code",
   "execution_count": null,
   "metadata": {},
   "outputs": [],
   "source": [
    "from generative_inpainting_test import GenerativeInpaintingTest\n",
    "test = GenerativeInpaintingTest(copy.deepcopy(cfg))"
   ]
  },
  {
   "cell_type": "code",
   "execution_count": null,
   "metadata": {
    "scrolled": true
   },
   "outputs": [],
   "source": [
    "test.train(sleep=False)"
   ]
  }
 ],
 "metadata": {
  "kernelspec": {
   "display_name": "Python 3",
   "language": "python",
   "name": "python3"
  },
  "language_info": {
   "codemirror_mode": {
    "name": "ipython",
    "version": 3
   },
   "file_extension": ".py",
   "mimetype": "text/x-python",
   "name": "python",
   "nbconvert_exporter": "python",
   "pygments_lexer": "ipython3",
   "version": "3.5.2"
  }
 },
 "nbformat": 4,
 "nbformat_minor": 2
}
