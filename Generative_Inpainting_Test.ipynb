{
 "cells": [
  {
   "cell_type": "code",
   "execution_count": null,
   "metadata": {},
   "outputs": [],
   "source": [
    "import torch\n",
    "import matplotlib.pyplot as plt\n",
    "import numpy as np\n",
    "import os\n",
    "import cv2\n",
    "import pickle\n",
    "import copy\n",
    "\n",
    "get_ipython().magic('matplotlib inline')\n",
    "get_ipython().magic('reload_ext autoreload')\n",
    "get_ipython().magic('autoreload 2')"
   ]
  },
  {
   "cell_type": "code",
   "execution_count": null,
   "metadata": {},
   "outputs": [],
   "source": [
    "# Set GPU\n",
    "import os\n",
    "os.environ[\"CUDA_DEVICE_ORDER\"]=\"PCI_BUS_ID\"   \n",
    "os.environ[\"CUDA_VISIBLE_DEVICES\"]=\"3\""
   ]
  },
  {
   "cell_type": "code",
   "execution_count": null,
   "metadata": {},
   "outputs": [],
   "source": [
    "from base_cfg import base_cfg\n",
    "cfg = base_cfg\n",
    "# data_loader\n",
    "cfg['data_dir'] = '/mnt/ilcompfad1/user/hazhang/data_home/SYN/'\n",
    "cfg['video_name'] = 'hike'\n",
    "cfg['mask_name'] = None\n",
    "cfg['video_list'] = [\n",
    "# 'car-shadow', 'bmx-bumps', 'swing', 'stroller',\n",
    "# 'breakdance', 'flamingo', 'motorbike', \n",
    "# 'breakdance-flare', 'parkour', 'hike',\n",
    "    \n",
    "# 'horsejump-high', 'camel', 'bmx-trees', 'horsejump-low', 'dance-jump', \n",
    "# 'boat', 'paragliding-launch', 'elephant', 'tennis', 'surf', \n",
    "# 'paragliding', 'kite-surf', 'dance-twirl', 'rollerblade', 'goat',\n",
    "# 'rhino', 'train',\n",
    "                        \n",
    "# 'beach', 'wall', 'forest', 'drone', 'hall',\n",
    "'castle', \n",
    "#     'desert', \n",
    "#     'street', \n",
    "#     'road',\n",
    "#     'cave',\n",
    "                    ]\n",
    "cfg['mask_list'] = ['bmx-bumps', 'parkour', 'swing', 'breakdance-flare', 'rollerblade']\n",
    "cfg['batch_size'] = 1\n",
    "cfg['batch_stride'] = 1\n",
    "cfg['traverse_step'] = 1\n",
    "cfg['batch_mode'] = 'seq'\n",
    "cfg['frame_sum'] = 60\n",
    "cfg['resize'] = 1/2.2\n",
    "cfg['input_mode'] = 'dip'\n",
    "cfg['use_square_mask'] = True\n",
    "\n",
    "# model\n",
    "cfg['checkpoint_dir'] = 'model_logs/release_places2_256/'\n",
    "\n",
    "# visualize\n",
    "cfg['plot'] = False\n",
    "cfg['save'] = True\n",
    "cfg['draw_boundary'] = False\n",
    "cfg['save_upsample'] = False\n",
    "cfg['save_batch'] = False\n",
    "cfg['compare_gt'] = False\n",
    "# result\n",
    "cfg['res_dir'] = None\n",
    "cfg['res_dir'] = \"/mnt/ilcompfad1/user/hazhang/result/Eval/generative_inpainting/SYN/\""
   ]
  },
  {
   "cell_type": "code",
   "execution_count": null,
   "metadata": {},
   "outputs": [],
   "source": [
    "pid = 9\n",
    "pickle.dump(cfg, open('../../tmp/cfg/cfg_'+str(pid)+'.pkl', 'wb'))\n",
    "print(pid)"
   ]
  },
  {
   "cell_type": "code",
   "execution_count": null,
   "metadata": {},
   "outputs": [],
   "source": [
    "from generative_inpainting_test import GenerativeInpaintingTest\n",
    "test = GenerativeInpaintingTest(copy.deepcopy(cfg))"
   ]
  },
  {
   "cell_type": "code",
   "execution_count": null,
   "metadata": {},
   "outputs": [],
   "source": [
    "test.create_data_loaders()\n",
    "batch_data = test.data_loader.next_batch()"
   ]
  },
  {
   "cell_type": "code",
   "execution_count": null,
   "metadata": {},
   "outputs": [],
   "source": [
    "plt.figure()\n",
    "plt.imshow(batch_data['input_batch'][55])\n",
    "# plt.figure()\n",
    "# plt.imshow(batch_data['img_batch'][20])"
   ]
  },
  {
   "cell_type": "code",
   "execution_count": null,
   "metadata": {},
   "outputs": [],
   "source": [
    "test.train(sleep=False)"
   ]
  }
 ],
 "metadata": {
  "kernelspec": {
   "display_name": "Python 3",
   "language": "python",
   "name": "python3"
  },
  "language_info": {
   "codemirror_mode": {
    "name": "ipython",
    "version": 3
   },
   "file_extension": ".py",
   "mimetype": "text/x-python",
   "name": "python",
   "nbconvert_exporter": "python",
   "pygments_lexer": "ipython3",
   "version": "3.5.2"
  }
 },
 "nbformat": 4,
 "nbformat_minor": 2
}
